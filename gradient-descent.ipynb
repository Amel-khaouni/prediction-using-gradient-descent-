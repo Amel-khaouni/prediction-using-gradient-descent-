{
  "cells": [
    {
      "cell_type": "markdown",
      "metadata": {
        "id": "j1_GBEAaf2e0"
      },
      "source": [
        "# TP 2 Descente du Gradient\n",
        "Dans ce TP, nous aimerions prédire le bénéfice d'une entreprise dans plusieurs ville en nous basant sur les habitant de cette ville.\n",
        "\n",
        "Pour ce faire, nous étudierons un ensemble de données avec le bénéfice (y) et les caractéristiques des habitants (X).\n",
        "\n",
        "La prédiction se fera avec l'agorithme de descente du gradient."
      ]
    },
    {
      "cell_type": "markdown",
      "metadata": {
        "id": "xqXVyDtlf2e4"
      },
      "source": [
        "# Importation des librairies necessaires au travail"
      ]
    },
    {
      "cell_type": "code",
      "execution_count": 1,
      "metadata": {
        "id": "Z7Ut1MyHf2e4"
      },
      "outputs": [],
      "source": [
        "import numpy as np\n",
        "import matplotlib.pyplot as plt\n",
        "import time\n"
      ]
    },
    {
      "cell_type": "markdown",
      "metadata": {
        "id": "ekH1R_JWf2e5"
      },
      "source": [
        "# Lecture des fichiers de données\n",
        "Pour ce TP, nous allons lire les données à partir d'un fichier csv."
      ]
    },
    {
      "cell_type": "code",
      "execution_count": 2,
      "metadata": {
        "colab": {
          "base_uri": "https://localhost:8080/"
        },
        "id": "GsEfLfb6f2e6",
        "outputId": "d3f4428f-77b5-4e5f-e4bf-6fe0e6e0e2f7"
      },
      "outputs": [
        {
          "data": {
            "text/plain": [
              "(97, 2)"
            ]
          },
          "execution_count": 2,
          "metadata": {},
          "output_type": "execute_result"
        }
      ],
      "source": [
        "# données\n",
        "data = np.genfromtxt('data.csv', delimiter=',', dtype=int)\n",
        "data.shape"
      ]
    },
    {
      "cell_type": "markdown",
      "metadata": {
        "id": "hYl6Ry2Uf2e7"
      },
      "source": [
        "Dans ces données (data), la première colonne represente la première caractéristique (la population d'une ville x1000), la deuxieme colonne represente le bénéfice (x1000).\n",
        "\n",
        "Chaque ligne represente un exemple de notre ensemble de données. \n",
        "\n",
        "Mettons ces données dans leus vecteurs correspondants."
      ]
    },
    {
      "cell_type": "code",
      "execution_count": 3,
      "metadata": {
        "colab": {
          "base_uri": "https://localhost:8080/"
        },
        "id": "ocIjARGwf2e7",
        "outputId": "08242b0e-9ed2-43da-ef3b-3bc9189797a4"
      },
      "outputs": [
        {
          "name": "stdout",
          "output_type": "stream",
          "text": [
            "(97, 2)\n",
            "(97,)\n"
          ]
        }
      ],
      "source": [
        "# rajoutons l'ordonnée à l'origine theta 0\n",
        "intercept=np.ones((data.shape[0],1))\n",
        "X=np.column_stack((intercept,data[:,0]))\n",
        "print (X.shape)\n",
        "y = data[:, 1]\n",
        "print(y.shape)"
      ]
    },
    {
      "cell_type": "code",
      "execution_count": 4,
      "metadata": {
        "colab": {
          "base_uri": "https://localhost:8080/",
          "height": 467
        },
        "id": "UZzbI6m9f2e8",
        "outputId": "8757ca54-e2a0-4a64-8be0-3b884d19b4e3"
      },
      "outputs": [
        {
          "data": {
            "text/plain": [
              "Text(0, 0.5, 'Bénéfice x1000')"
            ]
          },
          "execution_count": 4,
          "metadata": {},
          "output_type": "execute_result"
        },
        {
          "data": {
            "image/png": "[encoded data removed]",
            "text/plain": [
              "<Figure size 432x288 with 1 Axes>"
            ]
          },
          "metadata": {
            "needs_background": "light"
          },
          "output_type": "display_data"
        }
      ],
      "source": [
        "# traçons ces données pour visualisation\n",
        "plt.scatter(X[:,1],y,marker ='x')\n",
        "plt.xlabel('Population x 1000')\n",
        "plt.ylabel('Bénéfice x1000')"
      ]
    },
    {
      "cell_type": "markdown",
      "metadata": {
        "id": "LEvfJ63Vf2e9"
      },
      "source": [
        "# Descente du Gradient : Préparation des fonctions"
      ]
    },
    {
      "cell_type": "markdown",
      "metadata": {
        "id": "GGTO0spOf2e9"
      },
      "source": [
        "1- Calcul du coût\n",
        "\n",
        "Cette fonction servira à calculer le cout $J(\\theta_0,\\theta_1)$\n",
        "\n",
        "Elle prendra l'ensemble de données d'apprentissage en entrée ainsi que les paramètres définis initialement"
      ]
    },
    {
      "cell_type": "code",
      "execution_count": null,
      "metadata": {
        "id": "Cfi6ay_Lf2e-"
      },
      "outputs": [],
      "source": []
    },
    {
      "cell_type": "code",
      "execution_count": 5,
      "metadata": {
        "id": "S8QKCQzFf2e-"
      },
      "outputs": [],
      "source": [
        "def computeCost(X, y, theta):\n",
        "    \n",
        "    m = len(y)\n",
        "    h = np.dot(X, theta)\n",
        "    J = (1/(2*m)) * np.sum((h - y)**2)\n",
        "    return J\n",
        "\n"
      ]
    },
    {
      "cell_type": "markdown",
      "metadata": {
        "id": "e5y3h-Dif2e_"
      },
      "source": [
        "2- Fonction de la descente du gradient\n",
        "\n",
        "Cette fonction mettra à jour les paramètres $\\theta_0,\\theta_1$ jusqu'à convergence: atteinte du nombre d'itérations max, ou dérivée assez petite."
      ]
    },
    {
      "cell_type": "code",
      "execution_count": 6,
      "metadata": {
        "id": "7hLdOX_8f2e_"
      },
      "outputs": [],
      "source": [
        "def gradientDescent(X, y, theta, alpha, iterations):\n",
        "    # garder aussi le cout à chaque itération \n",
        "    # pour afficher le coût en fonction de theta0 et theta1\n",
        "    m = X.shape[0]\n",
        "    y=y.reshape((m,1))\n",
        "    costs = []\n",
        "    \n",
        "    for i in range(iterations):\n",
        "        h_y = np.dot(X, theta) - y\n",
        "        htheta = np.dot(X.T, h_y )\n",
        "        derive_mse = 1/m * htheta\n",
        "        theta = theta - (alpha * derive_mse)\n",
        "        mse = computeCost(X, y, theta)\n",
        "        costs.append(mse)\n",
        "    return theta, costs\n"
      ]
    },
    {
      "cell_type": "markdown",
      "metadata": {
        "id": "Ibj4xistf2e_"
      },
      "source": [
        "# Descente du Gradient : Appel des fonctions"
      ]
    },
    {
      "cell_type": "markdown",
      "metadata": {
        "id": "fndIe1A0f2e_"
      },
      "source": [
        "Initialisation de $\\theta_0$ et $\\theta_1$"
      ]
    },
    {
      "cell_type": "code",
      "execution_count": 7,
      "metadata": {
        "id": "hM0d6keyf2fA"
      },
      "outputs": [],
      "source": [
        "theta = np.zeros((2, 1))"
      ]
    },
    {
      "cell_type": "markdown",
      "metadata": {
        "id": "_QNKuRyMf2fA"
      },
      "source": [
        "Calculer le cout initial"
      ]
    },
    {
      "cell_type": "code",
      "execution_count": 8,
      "metadata": {
        "id": "1k9uq5olf2fA"
      },
      "outputs": [],
      "source": [
        "initialCost=computeCost(X, y, theta)"
      ]
    },
    {
      "cell_type": "markdown",
      "metadata": {
        "id": "oa2KSvlDf2fA"
      },
      "source": [
        "Appel des la fonction de calcul du gradient"
      ]
    },
    {
      "cell_type": "code",
      "execution_count": 9,
      "metadata": {
        "colab": {
          "base_uri": "https://localhost:8080/"
        },
        "id": "QOAjE5Saf2fA",
        "outputId": "d6b58291-4173-4145-8548-e5f98063db18"
      },
      "outputs": [
        {
          "data": {
            "text/plain": [
              "Text(0, 0.5, 'cost function')"
            ]
          },
          "execution_count": 9,
          "metadata": {},
          "output_type": "execute_result"
        },
        {
          "data": {
            "image/png": "[encoded data removed]",
            "text/plain": [
              "<Figure size 432x288 with 1 Axes>"
            ]
          },
          "metadata": {
            "needs_background": "light"
          },
          "output_type": "display_data"
        }
      ],
      "source": [
        "# paramètres\n",
        "iterations = 1500\n",
        "alpha = 0.01\n",
        "# Appel\n",
        "iters = []\n",
        "theta, costs = gradientDescent(X, y, theta, alpha, iterations)\n",
        "for i in range(iterations):\n",
        "    iters.append(i)\n",
        "plt.plot(iters,costs)\n",
        "plt.xlabel('iterations')\n",
        "plt.ylabel('cost function')"
      ]
    },
    {
      "cell_type": "markdown",
      "metadata": {
        "id": "19K_Y5kif2fB"
      },
      "source": [
        "Traçage de la fonction du coût"
      ]
    },
    {
      "cell_type": "markdown",
      "metadata": {
        "id": "OSXiphr2f2fB"
      },
      "source": [
        "Notons que $\\theta^T  x$ est équivalent à $X  \\theta $ où $X= \\begin{pmatrix}\n",
        "..(x^{(1)})^T..\\\\\n",
        "..(x^{(2)})^T..\\\\\n",
        ".\\\\\n",
        ".\\\\\n",
        ".\\\\\n",
        "..(x^{(m)})^T..\n",
        "\\end{pmatrix} $"
      ]
    },
    {
      "cell_type": "code",
      "execution_count": 10,
      "metadata": {
        "colab": {
          "base_uri": "https://localhost:8080/",
          "height": 485
        },
        "id": "MkG1iz5qf2fB",
        "outputId": "59df72ba-db69-4957-f8c3-3c847c88e552"
      },
      "outputs": [
        {
          "data": {
            "text/plain": [
              "[<matplotlib.lines.Line2D at 0x2311fbce490>,\n",
              " <matplotlib.lines.Line2D at 0x2311fbce430>]"
            ]
          },
          "execution_count": 10,
          "metadata": {},
          "output_type": "execute_result"
        },
        {
          "data": {
            "image/png": "[encoded data removed]",
            "text/plain": [
              "<Figure size 432x288 with 1 Axes>"
            ]
          },
          "metadata": {
            "needs_background": "light"
          },
          "output_type": "display_data"
        }
      ],
      "source": [
        "\n",
        "y_pred=np.matmul(X,theta)\n",
        "plt.scatter(X[:,1],y,marker ='x')\n",
        "plt.xlabel('Population x 1000')\n",
        "plt.ylabel('Chiffre d\\'affaires x1000')\n",
        "plt.plot(X,y_pred)\n",
        "# la ligne du graphe represente le traçage de la fonction hypothèse\n",
        "# la ligne devrait se rapprocher des données après entrainement avec la descente du gredient"
      ]
    },
    {
      "cell_type": "markdown",
      "metadata": {
        "id": "ydF1kmH_f2fB"
      },
      "source": [
        "Traçage du coût en fonction de theta0 et theta1"
      ]
    },
    {
      "cell_type": "code",
      "execution_count": 11,
      "metadata": {
        "colab": {
          "base_uri": "https://localhost:8080/",
          "height": 411
        },
        "id": "pvs0tWIFf2fB",
        "outputId": "c1056165-1c62-4330-f917-ddbf3d7f4c80"
      },
      "outputs": [
        {
          "data": {
            "image/png": "[encoded data removed]",
            "text/plain": [
              "<Figure size 432x288 with 1 Axes>"
            ]
          },
          "metadata": {
            "needs_background": "light"
          },
          "output_type": "display_data"
        }
      ],
      "source": [
        "\n",
        "theta0_vals = np.arange(-3.5, 3.5, 0.05)\n",
        "theta1_vals= np.arange(-3.5, 3.5, 0.05)\n",
        "theta0, theta1 = np.meshgrid(theta0_vals, theta1_vals)\n",
        "\n",
        "mse = np.array([computeCost(X,y,np.array([theta0 , theta1])) for theta0,theta1 in zip(np.ravel(theta0) , np.ravel(theta1))])\n",
        "mse = mse.reshape(theta0.shape)\n",
        "\n",
        "fig = plt.figure()\n",
        "ax = plt.axes(projection='3d')\n",
        "surf = ax.plot_surface(theta0, theta1, mse)\n",
        "\n",
        "ax.set_xlabel('theta0')\n",
        "ax.set_ylabel('theta1')\n",
        "ax.set_zlabel('MSE')\n",
        "\n",
        "plt.show()\n"
      ]
    },
    {
      "cell_type": "markdown",
      "metadata": {
        "id": "2VZ9MGMnf2fC"
      },
      "source": [
        "Prédire des valeurs de y"
      ]
    },
    {
      "cell_type": "code",
      "execution_count": 12,
      "metadata": {
        "colab": {
          "base_uri": "https://localhost:8080/"
        },
        "id": "2vaMZaA0f2fC",
        "outputId": "e9b7ae93-dbba-4477-ed37-64b6307950f5"
      },
      "outputs": [
        {
          "data": {
            "text/plain": [
              "array([0.49898053])"
            ]
          },
          "execution_count": 12,
          "metadata": {},
          "output_type": "execute_result"
        }
      ],
      "source": [
        "# Predire pour une opulation = 35,000 et 70,000\n",
        "predict1 = np.matmul([1, 3.5],theta)\n",
        "predict1"
      ]
    },
    {
      "cell_type": "code",
      "execution_count": 13,
      "metadata": {
        "colab": {
          "base_uri": "https://localhost:8080/"
        },
        "id": "1rQhJ7bEf2fC",
        "outputId": "8e80f292-401e-430c-85bc-67bb2d52f058"
      },
      "outputs": [
        {
          "data": {
            "text/plain": [
              "array([4.59767717])"
            ]
          },
          "execution_count": 13,
          "metadata": {},
          "output_type": "execute_result"
        }
      ],
      "source": [
        "predict2 = np.matmul([1, 7],theta)\n",
        "predict2"
      ]
    },
    {
      "cell_type": "markdown",
      "metadata": {
        "id": "_nksg6iNf2fC"
      },
      "source": [
        "# Régression linéaire à plusieurs variables"
      ]
    },
    {
      "cell_type": "markdown",
      "metadata": {
        "id": "_8j0lTWkf2fC"
      },
      "source": [
        "Proposer, l'aide des fonctions définies precedemment, une regression linéaire lorsque le nombre de descripeurs est supérieur à 1, en utilisant la base d'apprentissage suivante"
      ]
    },
    {
      "cell_type": "code",
      "execution_count": 14,
      "metadata": {
        "colab": {
          "base_uri": "https://localhost:8080/"
        },
        "id": "kSNx25FIf2fC",
        "outputId": "a5f0bf1e-6ab0-4eb5-8950-b7080f78afc6"
      },
      "outputs": [
        {
          "data": {
            "text/plain": [
              "(47, 3)"
            ]
          },
          "execution_count": 14,
          "metadata": {},
          "output_type": "execute_result"
        }
      ],
      "source": [
        "# données\n",
        "dataMulti = np.genfromtxt('dataMulti.csv', delimiter=',', dtype=int)\n",
        "dataMulti.shape"
      ]
    },
    {
      "cell_type": "markdown",
      "metadata": {
        "id": "p0bfXUybf2fD"
      },
      "source": [
        "Pour cette ensemble de données, nous voudrions prédire le prix d'une maison (3ème colonne de dataMulti) à partir de :\n",
        "- sa supérficie (1ère colonne)\n",
        "- son nombre de chambres (2ème colonne)"
      ]
    },
    {
      "cell_type": "code",
      "execution_count": 15,
      "metadata": {
        "colab": {
          "base_uri": "https://localhost:8080/"
        },
        "id": "3u_rp_3xf2fD",
        "outputId": "5351c324-09ee-457e-8921-950743ba8435"
      },
      "outputs": [
        {
          "name": "stdout",
          "output_type": "stream",
          "text": [
            "(47, 3) (47,)\n"
          ]
        }
      ],
      "source": [
        "# d'abord créer X et y\n",
        "X = dataMulti[:, :2] # Sélectionne les deux premières colonnes de dataMulti\n",
        "y = dataMulti[:, 2] # Sélectionne la troisième colonne de dataMulti\n",
        "# Ajouter une colonne de 1 pour l'ordonnée à l'origine\n",
        "X = np.hstack((np.ones((X.shape[0], 1)), X))\n",
        "print(X.shape, y.shape) "
      ]
    },
    {
      "cell_type": "code",
      "execution_count": 16,
      "metadata": {
        "id": "cSKcjaI_f2fD"
      },
      "outputs": [],
      "source": [
        "# redéfinissez vos fonctions de coût si cela est necessaire\n",
        "def computeCostMulti(X, y, theta):\n",
        "    m = len(y)\n",
        "    h = X @ theta\n",
        "    J = 1 / (2 * m) * np.sum((h - y) ** 2)\n",
        "    return J"
      ]
    },
    {
      "cell_type": "code",
      "execution_count": 17,
      "metadata": {
        "id": "so5srje9oCjC"
      },
      "outputs": [],
      "source": [
        "def gradientDescentMulti(X, y, theta, alpha, num_iters):\n",
        "    m = len(y)\n",
        "    J_history = np.zeros((num_iters, 1))\n",
        "    \n",
        "    for i in range(num_iters):\n",
        "       \n",
        "        h = X @ theta\n",
        "        h_y = y - h\n",
        "        htheta = (X.T @ h_y)\n",
        "        derive_mse = -1/m * htheta\n",
        "        theta = theta - (alpha * derive_mse)\n",
        "        J_history[i] = computeCost(X, y, theta)\n",
        "        \n",
        "    return theta, J_history\n"
      ]
    },
    {
      "cell_type": "markdown",
      "metadata": {
        "id": "NdJaM9m_f2fD"
      },
      "source": [
        "Mise à l'échelle des données"
      ]
    },
    {
      "cell_type": "markdown",
      "metadata": {
        "id": "DBcDA_DCf2fD"
      },
      "source": [
        "Normalisation des données en moyenne = 0"
      ]
    },
    {
      "cell_type": "code",
      "execution_count": 18,
      "metadata": {
        "colab": {
          "base_uri": "https://localhost:8080/"
        },
        "id": "OyCIvOb1f2fD",
        "outputId": "1d7b4154-1586-4716-842f-32d4f2d2d216"
      },
      "outputs": [
        {
          "name": "stdout",
          "output_type": "stream",
          "text": [
            "(47, 3)\n"
          ]
        }
      ],
      "source": [
        "mean = np.mean(X, axis=0)\n",
        "std = np.std(X, axis=0)\n",
        "X_norm = (X - mean) / (std + 1e-8)\n",
        "print(X_norm.shape)\n"
      ]
    },
    {
      "cell_type": "markdown",
      "metadata": {
        "id": "vpQf_JxEf2fD"
      },
      "source": [
        "Appliquer la descente du gradient à plusieurs variables"
      ]
    },
    {
      "cell_type": "code",
      "execution_count": 19,
      "metadata": {
        "colab": {
          "base_uri": "https://localhost:8080/"
        },
        "id": "WLfWC_WIf2fE",
        "outputId": "458bc293-d233-4ed4-9552-9e734ab061b0"
      },
      "outputs": [
        {
          "name": "stdout",
          "output_type": "stream",
          "text": [
            "Paramètres optimaux :\n",
            "[[ 0.00000000e+00  0.00000000e+00  0.00000000e+00  0.00000000e+00\n",
            "   0.00000000e+00  0.00000000e+00  0.00000000e+00  0.00000000e+00\n",
            "   0.00000000e+00  0.00000000e+00  0.00000000e+00  0.00000000e+00\n",
            "   0.00000000e+00  0.00000000e+00  0.00000000e+00  0.00000000e+00\n",
            "   0.00000000e+00  0.00000000e+00  0.00000000e+00  0.00000000e+00\n",
            "   0.00000000e+00  0.00000000e+00  0.00000000e+00  0.00000000e+00\n",
            "   0.00000000e+00  0.00000000e+00  0.00000000e+00  0.00000000e+00\n",
            "   0.00000000e+00  0.00000000e+00  0.00000000e+00  0.00000000e+00\n",
            "   0.00000000e+00  0.00000000e+00  0.00000000e+00  0.00000000e+00\n",
            "   0.00000000e+00  0.00000000e+00  0.00000000e+00  0.00000000e+00\n",
            "   0.00000000e+00  0.00000000e+00  0.00000000e+00  0.00000000e+00\n",
            "   0.00000000e+00  0.00000000e+00  0.00000000e+00]\n",
            " [-5.17530212e-11 -3.88334917e-11 -5.09580629e-11 -3.03952488e-11\n",
            "  -8.13817704e-11 -3.91261627e-11 -4.53145546e-11 -2.38326374e-11\n",
            "  -2.82241042e-11 -2.61941821e-11 -2.71278081e-11 -4.39557640e-11\n",
            "  -4.02134413e-11 -8.60296753e-11 -3.37989802e-11 -5.83535109e-11\n",
            "  -3.91261627e-11 -2.93579336e-11 -6.42271202e-11 -8.39071813e-11\n",
            "  -3.37998355e-11 -3.39905730e-11 -3.34946967e-11 -3.37989802e-11\n",
            "  -7.26673477e-11 -3.08709261e-11 -6.23617901e-11 -6.50298515e-11\n",
            "  -5.50825609e-11 -3.91261627e-11 -4.63250915e-11 -2.18814780e-11\n",
            "  -4.53145546e-11 -8.38317459e-11 -3.96780398e-11 -3.08709261e-11\n",
            "  -3.03850370e-11 -5.04887540e-11 -7.59775607e-11 -4.21384920e-11\n",
            "  -4.68696212e-11 -3.88334917e-11 -4.27779261e-11 -4.24598388e-11\n",
            "  -2.30388947e-11 -3.91261627e-11 -2.52500190e-11]\n",
            " [ 1.11852786e-10  9.22351028e-11  1.02063645e-10  6.74490980e-11\n",
            "   1.52958227e-10  8.56162158e-11  9.28206187e-11  5.51443162e-11\n",
            "   5.95863695e-11  6.38654912e-11  6.41591669e-11  9.20454128e-11\n",
            "   8.47960582e-11  1.84394960e-10  7.64687119e-11  1.26141095e-10\n",
            "   8.56162158e-11  6.03705799e-11  1.42685139e-10  1.71298666e-10\n",
            "   7.20235615e-11  7.27070336e-11  6.63845764e-11  7.64687119e-11\n",
            "   1.65946014e-10  6.97488186e-11  1.36167631e-10  1.26189562e-10\n",
            "   1.28113070e-10  8.56162158e-11  9.40097724e-11  4.53609553e-11\n",
            "   9.28206187e-11  1.59083565e-10  8.06449413e-11  6.97488186e-11\n",
            "   6.41469835e-11  9.99266107e-11  1.52031423e-10  8.41082513e-11\n",
            "   9.84268130e-11  9.22351028e-11  8.68390591e-11  8.39197307e-11\n",
            "   4.91710578e-11  8.56162158e-11  6.15750265e-11]]\n"
          ]
        }
      ],
      "source": [
        "# Initialiser les paramètres\n",
        "theta = np.zeros((3, 1))\n",
        "\n",
        "# Paramètres d'apprentissage\n",
        "alpha = 0.01\n",
        "num_iters = 400\n",
        "\n",
        "# Entraîner le modèle\n",
        "\n",
        "theta, J_history = gradientDescentMulti(X_norm, y, theta, alpha, num_iters)\n",
        "\n",
        "# Afficher les paramètres optimaux\n",
        "print('Paramètres optimaux :')\n",
        "print(theta)\n",
        "\n"
      ]
    },
    {
      "cell_type": "markdown",
      "metadata": {
        "id": "Kad6xSS4f2fE"
      },
      "source": [
        "Comparer la descente du gradient avec et sans normalisation\n",
        "- **Exemple**: voir la difference dans le temps de calcul ,    \n",
        "\n",
        "En comparant les temps de calcul pour les deux méthodes, nous pouvons observer que la normalisation des données peut réduire considérablement le temps de calcul pour la descente du gradient. Cela est dû au fait que la normalisation des données permet une convergence plus rapide et plus stable de l'algorithme de descente du gradient"
      ]
    },
    {
      "cell_type": "code",
      "execution_count": 20,
      "metadata": {
        "colab": {
          "base_uri": "https://localhost:8080/"
        },
        "id": "KVKREJTZf2fE",
        "outputId": "d574bf55-7db7-402e-f9a1-1b0fb0e6f77f"
      },
      "outputs": [
        {
          "name": "stdout",
          "output_type": "stream",
          "text": [
            "Temps de calcul (avec normalisation) : 0.055792808532714844 secondes\n"
          ]
        }
      ],
      "source": [
        "# Initialiser les paramètres\n",
        "theta = np.zeros((3, 1))\n",
        "\n",
        "# Paramètres d'apprentissage\n",
        "alpha = 0.01\n",
        "num_iters = 400\n",
        "\n",
        "# Entraîner le modèle\n",
        "start_time = time.time()\n",
        "theta, J_history = gradientDescentMulti(X_norm, y, theta, alpha, num_iters)\n",
        "end_time = time.time()\n",
        "\n",
        "print('Temps de calcul (avec normalisation) :', end_time - start_time, 'secondes')\n"
      ]
    },
    {
      "cell_type": "code",
      "execution_count": 21,
      "metadata": {
        "colab": {
          "base_uri": "https://localhost:8080/"
        },
        "id": "79D_FLLR4Obu",
        "outputId": "74985140-3bfb-4df5-a715-3474892df45a"
      },
      "outputs": [
        {
          "name": "stdout",
          "output_type": "stream",
          "text": [
            "Temps de calcul (sans normalisation) : 0.06482696533203125 secondes\n"
          ]
        },
        {
          "name": "stderr",
          "output_type": "stream",
          "text": [
            "C:\\Users\\HP\\AppData\\Local\\Temp\\ipykernel_432\\3628134826.py:5: RuntimeWarning: overflow encountered in square\n",
            "  J = (1/(2*m)) * np.sum((h - y)**2)\n",
            "C:\\Users\\HP\\AppData\\Local\\Temp\\ipykernel_432\\1037702343.py:9: RuntimeWarning: overflow encountered in matmul\n",
            "  htheta = (X.T @ h_y)\n",
            "C:\\Users\\HP\\AppData\\Local\\Temp\\ipykernel_432\\1037702343.py:11: RuntimeWarning: invalid value encountered in subtract\n",
            "  theta = theta - (alpha * derive_mse)\n"
          ]
        }
      ],
      "source": [
        "# Initialiser les paramètres\n",
        "theta = np.zeros((3, 1))\n",
        "\n",
        "# Paramètres d'apprentissage\n",
        "alpha = 0.01\n",
        "num_iters = 400\n",
        "# Entraîner le modèle\n",
        "start_time = time.time()\n",
        "theta, J_history = gradientDescentMulti(X, y, theta, alpha, num_iters)\n",
        "end_time = time.time()\n",
        "\n",
        "print('Temps de calcul (sans normalisation) :', end_time - start_time, 'secondes')"
      ]
    },
    {
      "cell_type": "markdown",
      "metadata": {
        "id": "r9NX3t8wf2fE"
      },
      "source": [
        "# Vérification de l'implementation\n",
        "Comparer vos algorithmes à ceux de scikitlearn"
      ]
    },
    {
      "cell_type": "code",
      "execution_count": 22,
      "metadata": {
        "colab": {
          "base_uri": "https://localhost:8080/"
        },
        "id": "Cb34UwI9f2fE",
        "outputId": "e5e1c09f-6a82-46d1-d12f-e0b3ed4c35ad"
      },
      "outputs": [
        {
          "name": "stdout",
          "output_type": "stream",
          "text": [
            "Coefficients optimaux :\n",
            "[109447.76551898  -6578.27679028]\n"
          ]
        }
      ],
      "source": [
        "from sklearn.linear_model import LinearRegression\n",
        "from sklearn.preprocessing import StandardScaler\n",
        "\n",
        "# Charger les données\n",
        "data = np.genfromtxt('dataMulti.csv', delimiter=',', dtype=int)\n",
        "X = data[:, :2]\n",
        "y = data[:, 2]\n",
        "\n",
        "# Mise à l'échelle des données\n",
        "scaler = StandardScaler()\n",
        "X_scaled = scaler.fit_transform(X)\n",
        "\n",
        "# Entraîner le modèle\n",
        "model = LinearRegression()\n",
        "model.fit(X_scaled, y)\n",
        "\n",
        "# Afficher les coefficients optimaux\n",
        "print('Coefficients optimaux :')\n",
        "print(model.coef_)\n",
        "\n"
      ]
    },
    {
      "cell_type": "code",
      "execution_count": 23,
      "metadata": {
        "colab": {
          "base_uri": "https://localhost:8080/"
        },
        "id": "WygoqvPGjybg",
        "outputId": "5c2c9cc6-895c-47ef-e113-7ae7ce99f78c"
      },
      "outputs": [
        {
          "name": "stdout",
          "output_type": "stream",
          "text": [
            "Temps d'exécution (gradientDescentMulti) : 0.0488736629486084 secondes\n",
            "Temps d'exécution (scikit-learn) : 0.0024628639221191406 secondes\n"
          ]
        }
      ],
      "source": [
        "# Mesure le temps d'exécution de la fonction gradientDescentMulti\n",
        "start = time.time()\n",
        "theta, J_history = gradientDescentMulti(X_norm, y, theta, alpha, num_iters)\n",
        "end = time.time()\n",
        "print(f\"Temps d'exécution (gradientDescentMulti) : {end - start} secondes\")\n",
        "\n",
        "# Mesure le temps d'exécution de la fonction fit de scikit-learn\n",
        "start = time.time()\n",
        "model.fit(X, y)\n",
        "end = time.time()\n",
        "print(f\"Temps d'exécution (scikit-learn) : {end - start} secondes\")\n"
      ]
    },
    {
      "cell_type": "markdown",
      "metadata": {
        "id": "myj4lVHTf2fE"
      },
      "source": [
        "# Renforcement d'apprentissage\n",
        "Mettre ici toute idée qui pourrait renforcer votre apprentissage"
      ]
    },
    {
      "cell_type": "code",
      "execution_count": null,
      "metadata": {
        "id": "nyk59F2Lf2fE"
      },
      "outputs": [],
      "source": []
    },
    {
      "cell_type": "markdown",
      "metadata": {
        "id": "4GkBHwqHf2fE"
      },
      "source": [
        "# Consignes"
      ]
    },
    {
      "cell_type": "code",
      "execution_count": 24,
      "metadata": {
        "id": "xJNAftmjf2fF"
      },
      "outputs": [],
      "source": []
    }
  ],
  "metadata": {
    "colab": {
      "provenance": []
    },
    "kernelspec": {
      "display_name": "Python 3",
      "language": "python",
      "name": "python3"
    },
    "language_info": {
      "codemirror_mode": {
        "name": "ipython",
        "version": 3
      },
      "file_extension": ".py",
      "mimetype": "text/x-python",
      "name": "python",
      "nbconvert_exporter": "python",
      "pygments_lexer": "ipython3",
      "version": "3.9.12"
    }
  },
  "nbformat": 4,
  "nbformat_minor": 0
}
